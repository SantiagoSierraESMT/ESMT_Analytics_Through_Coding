{
 "cells": [
  {
   "cell_type": "markdown",
   "id": "a340672b",
   "metadata": {},
   "source": [
    "\n",
    "# Linear Regression for Prediction \n",
    "\n",
    "The goal of this notebook is to walk you through the mechanics of exploring complex datasets and designing a predictive model using linear regression. \n",
    "\n",
    "The example we will use is [Lending Club](https://www.lendingclub.com) , a peer-to-peer lender. \n",
    "The goal is to come up with an algorithm that recommends the interest rate to charge to new loans. The lending club has made historical data publicly available and we will use it for this exercise.\n"
   ]
  },
  {
   "cell_type": "markdown",
   "id": "13af8512",
   "metadata": {},
   "source": [
    "**Load the data and any libraries**"
   ]
  },
  {
   "cell_type": "code",
   "execution_count": 1,
   "id": "1d32476c",
   "metadata": {},
   "outputs": [
    {
     "data": {
      "application/vnd.microsoft.datawrangler.viewer.v0+json": {
       "columns": [
        {
         "name": "index",
         "rawType": "int64",
         "type": "integer"
        },
        {
         "name": "int_rate",
         "rawType": "float64",
         "type": "float"
        },
        {
         "name": "loan_amnt",
         "rawType": "object",
         "type": "string"
        },
        {
         "name": "term (months)",
         "rawType": "float64",
         "type": "float"
        },
        {
         "name": "installment",
         "rawType": "float64",
         "type": "float"
        },
        {
         "name": "dti",
         "rawType": "float64",
         "type": "float"
        },
        {
         "name": "delinq_2yrs",
         "rawType": "float64",
         "type": "float"
        },
        {
         "name": "annual_inc",
         "rawType": "float64",
         "type": "float"
        },
        {
         "name": "grade",
         "rawType": "object",
         "type": "string"
        },
        {
         "name": "emp_title",
         "rawType": "object",
         "type": "unknown"
        },
        {
         "name": "emp_length",
         "rawType": "object",
         "type": "unknown"
        },
        {
         "name": "home_ownership",
         "rawType": "object",
         "type": "string"
        },
        {
         "name": "verification_status",
         "rawType": "object",
         "type": "string"
        },
        {
         "name": "issue_d",
         "rawType": "object",
         "type": "string"
        },
        {
         "name": "zip_code",
         "rawType": "object",
         "type": "string"
        },
        {
         "name": "addr_state",
         "rawType": "object",
         "type": "string"
        },
        {
         "name": "loan_status",
         "rawType": "object",
         "type": "string"
        },
        {
         "name": "desc",
         "rawType": "object",
         "type": "unknown"
        },
        {
         "name": "purpose",
         "rawType": "object",
         "type": "string"
        },
        {
         "name": "title",
         "rawType": "object",
         "type": "string"
        },
        {
         "name": "Unnamed: 19",
         "rawType": "float64",
         "type": "float"
        },
        {
         "name": "Unnamed: 20",
         "rawType": "float64",
         "type": "float"
        },
        {
         "name": "Unnamed: 21",
         "rawType": "float64",
         "type": "float"
        },
        {
         "name": "Unnamed: 22",
         "rawType": "float64",
         "type": "float"
        },
        {
         "name": "Unnamed: 23",
         "rawType": "float64",
         "type": "float"
        },
        {
         "name": "Unnamed: 24",
         "rawType": "float64",
         "type": "float"
        },
        {
         "name": "Unnamed: 25",
         "rawType": "float64",
         "type": "float"
        },
        {
         "name": "Unnamed: 26",
         "rawType": "float64",
         "type": "float"
        },
        {
         "name": "Unnamed: 27",
         "rawType": "float64",
         "type": "float"
        },
        {
         "name": "Unnamed: 28",
         "rawType": "float64",
         "type": "float"
        },
        {
         "name": "Unnamed: 29",
         "rawType": "float64",
         "type": "float"
        },
        {
         "name": "Unnamed: 30",
         "rawType": "float64",
         "type": "float"
        },
        {
         "name": "Unnamed: 31",
         "rawType": "float64",
         "type": "float"
        },
        {
         "name": "Unnamed: 32",
         "rawType": "float64",
         "type": "float"
        },
        {
         "name": "Unnamed: 33",
         "rawType": "float64",
         "type": "float"
        },
        {
         "name": "Unnamed: 34",
         "rawType": "float64",
         "type": "float"
        },
        {
         "name": "Unnamed: 35",
         "rawType": "float64",
         "type": "float"
        },
        {
         "name": "Unnamed: 36",
         "rawType": "float64",
         "type": "float"
        },
        {
         "name": "Unnamed: 37",
         "rawType": "float64",
         "type": "float"
        },
        {
         "name": "Unnamed: 38",
         "rawType": "float64",
         "type": "float"
        },
        {
         "name": "Unnamed: 39",
         "rawType": "float64",
         "type": "float"
        },
        {
         "name": "Unnamed: 40",
         "rawType": "float64",
         "type": "float"
        },
        {
         "name": "Unnamed: 41",
         "rawType": "float64",
         "type": "float"
        },
        {
         "name": "Unnamed: 42",
         "rawType": "float64",
         "type": "float"
        },
        {
         "name": "Unnamed: 43",
         "rawType": "float64",
         "type": "float"
        },
        {
         "name": "Unnamed: 44",
         "rawType": "float64",
         "type": "float"
        },
        {
         "name": "Unnamed: 45",
         "rawType": "float64",
         "type": "float"
        },
        {
         "name": "Unnamed: 46",
         "rawType": "float64",
         "type": "float"
        },
        {
         "name": "Unnamed: 47",
         "rawType": "float64",
         "type": "float"
        },
        {
         "name": "Unnamed: 48",
         "rawType": "float64",
         "type": "float"
        },
        {
         "name": "Unnamed: 49",
         "rawType": "float64",
         "type": "float"
        },
        {
         "name": "Unnamed: 50",
         "rawType": "float64",
         "type": "float"
        },
        {
         "name": "Unnamed: 51",
         "rawType": "float64",
         "type": "float"
        },
        {
         "name": "Unnamed: 52",
         "rawType": "float64",
         "type": "float"
        },
        {
         "name": "Unnamed: 53",
         "rawType": "float64",
         "type": "float"
        },
        {
         "name": "Unnamed: 54",
         "rawType": "float64",
         "type": "float"
        },
        {
         "name": "Unnamed: 55",
         "rawType": "float64",
         "type": "float"
        },
        {
         "name": "Unnamed: 56",
         "rawType": "float64",
         "type": "float"
        },
        {
         "name": "Unnamed: 57",
         "rawType": "float64",
         "type": "float"
        },
        {
         "name": "Unnamed: 58",
         "rawType": "float64",
         "type": "float"
        },
        {
         "name": "Unnamed: 59",
         "rawType": "float64",
         "type": "float"
        },
        {
         "name": "Unnamed: 60",
         "rawType": "float64",
         "type": "float"
        },
        {
         "name": "Unnamed: 61",
         "rawType": "float64",
         "type": "float"
        },
        {
         "name": "Unnamed: 62",
         "rawType": "float64",
         "type": "float"
        },
        {
         "name": "Unnamed: 63",
         "rawType": "float64",
         "type": "float"
        },
        {
         "name": "Unnamed: 64",
         "rawType": "float64",
         "type": "float"
        },
        {
         "name": "Unnamed: 65",
         "rawType": "float64",
         "type": "float"
        },
        {
         "name": "Unnamed: 66",
         "rawType": "float64",
         "type": "float"
        },
        {
         "name": "Unnamed: 67",
         "rawType": "float64",
         "type": "float"
        },
        {
         "name": "Unnamed: 68",
         "rawType": "float64",
         "type": "float"
        },
        {
         "name": "Unnamed: 69",
         "rawType": "float64",
         "type": "float"
        },
        {
         "name": "Unnamed: 70",
         "rawType": "float64",
         "type": "float"
        },
        {
         "name": "Unnamed: 71",
         "rawType": "float64",
         "type": "float"
        },
        {
         "name": "Unnamed: 72",
         "rawType": "float64",
         "type": "float"
        },
        {
         "name": "Unnamed: 73",
         "rawType": "float64",
         "type": "float"
        },
        {
         "name": "Unnamed: 74",
         "rawType": "float64",
         "type": "float"
        },
        {
         "name": "Unnamed: 75",
         "rawType": "float64",
         "type": "float"
        },
        {
         "name": "Unnamed: 76",
         "rawType": "float64",
         "type": "float"
        },
        {
         "name": "Unnamed: 77",
         "rawType": "float64",
         "type": "float"
        },
        {
         "name": "Unnamed: 78",
         "rawType": "float64",
         "type": "float"
        },
        {
         "name": "Unnamed: 79",
         "rawType": "float64",
         "type": "float"
        }
       ],
       "ref": "651c5abc-697e-4d9f-a3cc-87a06dd77fbe",
       "rows": [
        [
         "0",
         "0.05",
         "8000",
         "36.0",
         "241.28",
         "2.11",
         "0.0",
         "50000.0",
         "A",
         null,
         "5 years",
         "MORTGAGE",
         "Verified",
         "9/1/2011",
         "977xx",
         "OR",
         "Fully Paid",
         "  Borrower added on 09/08/11 > Consolidating debt from credit cards into a single, lower interest loan.<br/>",
         "debt_consolidation",
         "Credit Card Payoff $8K",
         null,
         null,
         null,
         null,
         null,
         null,
         null,
         null,
         null,
         null,
         null,
         null,
         null,
         null,
         null,
         null,
         null,
         null,
         null,
         null,
         null,
         null,
         null,
         null,
         null,
         null,
         null,
         null,
         null,
         null,
         null,
         null,
         null,
         null,
         null,
         null,
         null,
         null,
         null,
         null,
         null,
         null,
         null,
         null,
         null,
         null,
         null,
         null,
         null,
         null,
         null,
         null,
         null,
         null,
         null,
         null,
         null,
         null,
         null,
         null,
         null
        ],
        [
         "1",
         "0.05",
         "6000",
         "36.0",
         "180.96",
         "5.73",
         "0.0",
         "52800.0",
         "A",
         "coral graphics",
         "< 1 year",
         "MORTGAGE",
         "Source Verified",
         "9/1/2011",
         "228xx",
         "VA",
         "Charged Off",
         "  Borrower added on 09/08/11 > excellent credit<br/>stable employment<br/>plan to repay in full early<br/> Borrower added on 09/12/11 > excellent credit<br/>stable employment<br/>",
         "vacation",
         "bad choice",
         null,
         null,
         null,
         null,
         null,
         null,
         null,
         null,
         null,
         null,
         null,
         null,
         null,
         null,
         null,
         null,
         null,
         null,
         null,
         null,
         null,
         null,
         null,
         null,
         null,
         null,
         null,
         null,
         null,
         null,
         null,
         null,
         null,
         null,
         null,
         null,
         null,
         null,
         null,
         null,
         null,
         null,
         null,
         null,
         null,
         null,
         null,
         null,
         null,
         null,
         null,
         null,
         null,
         null,
         null,
         null,
         null,
         null,
         null,
         null,
         null
        ],
        [
         "2",
         "0.05",
         "6500",
         "36.0",
         "196.04",
         "17.68",
         "0.0",
         "35352.0",
         "A",
         null,
         null,
         "MORTGAGE",
         "Not Verified",
         "9/1/2011",
         "864xx",
         "AZ",
         "Fully Paid",
         "  Borrower added on 09/09/11 > I plan to use the money to pay off my credit cards.  I am a good borrower because I have never not paid off a loan I have gotten and the payments predicted for this loan are well within my budget.<br/>",
         "credit_card",
         "Credit Card Loan",
         null,
         null,
         null,
         null,
         null,
         null,
         null,
         null,
         null,
         null,
         null,
         null,
         null,
         null,
         null,
         null,
         null,
         null,
         null,
         null,
         null,
         null,
         null,
         null,
         null,
         null,
         null,
         null,
         null,
         null,
         null,
         null,
         null,
         null,
         null,
         null,
         null,
         null,
         null,
         null,
         null,
         null,
         null,
         null,
         null,
         null,
         null,
         null,
         null,
         null,
         null,
         null,
         null,
         null,
         null,
         null,
         null,
         null,
         null,
         null,
         null
        ],
        [
         "3",
         "0.05",
         "8000",
         "36.0",
         "241.28",
         "22.71",
         "0.0",
         "79200.0",
         "A",
         "Honeywell",
         null,
         "MORTGAGE",
         "Verified",
         "9/1/2011",
         "322xx",
         "FL",
         "Fully Paid",
         "  Borrower added on 09/08/11 > Home improvement loan request<br/>",
         "home_improvement",
         "Home Improvement",
         null,
         null,
         null,
         null,
         null,
         null,
         null,
         null,
         null,
         null,
         null,
         null,
         null,
         null,
         null,
         null,
         null,
         null,
         null,
         null,
         null,
         null,
         null,
         null,
         null,
         null,
         null,
         null,
         null,
         null,
         null,
         null,
         null,
         null,
         null,
         null,
         null,
         null,
         null,
         null,
         null,
         null,
         null,
         null,
         null,
         null,
         null,
         null,
         null,
         null,
         null,
         null,
         null,
         null,
         null,
         null,
         null,
         null,
         null,
         null,
         null
        ],
        [
         "4",
         "0.05",
         "5500",
         "36.0",
         "165.88",
         "5.75",
         "0.0",
         "240000.0",
         "A",
         "O T Plus, Inc",
         "10+ years",
         "MORTGAGE",
         "Source Verified",
         "9/1/2011",
         "278xx",
         "NC",
         "Fully Paid",
         null,
         "car",
         "Car Loan",
         null,
         null,
         null,
         null,
         null,
         null,
         null,
         null,
         null,
         null,
         null,
         null,
         null,
         null,
         null,
         null,
         null,
         null,
         null,
         null,
         null,
         null,
         null,
         null,
         null,
         null,
         null,
         null,
         null,
         null,
         null,
         null,
         null,
         null,
         null,
         null,
         null,
         null,
         null,
         null,
         null,
         null,
         null,
         null,
         null,
         null,
         null,
         null,
         null,
         null,
         null,
         null,
         null,
         null,
         null,
         null,
         null,
         null,
         null,
         null,
         null
        ]
       ],
       "shape": {
        "columns": 80,
        "rows": 5
       }
      },
      "text/html": [
       "<div>\n",
       "<style scoped>\n",
       "    .dataframe tbody tr th:only-of-type {\n",
       "        vertical-align: middle;\n",
       "    }\n",
       "\n",
       "    .dataframe tbody tr th {\n",
       "        vertical-align: top;\n",
       "    }\n",
       "\n",
       "    .dataframe thead th {\n",
       "        text-align: right;\n",
       "    }\n",
       "</style>\n",
       "<table border=\"1\" class=\"dataframe\">\n",
       "  <thead>\n",
       "    <tr style=\"text-align: right;\">\n",
       "      <th></th>\n",
       "      <th>int_rate</th>\n",
       "      <th>loan_amnt</th>\n",
       "      <th>term (months)</th>\n",
       "      <th>installment</th>\n",
       "      <th>dti</th>\n",
       "      <th>delinq_2yrs</th>\n",
       "      <th>annual_inc</th>\n",
       "      <th>grade</th>\n",
       "      <th>emp_title</th>\n",
       "      <th>emp_length</th>\n",
       "      <th>...</th>\n",
       "      <th>Unnamed: 70</th>\n",
       "      <th>Unnamed: 71</th>\n",
       "      <th>Unnamed: 72</th>\n",
       "      <th>Unnamed: 73</th>\n",
       "      <th>Unnamed: 74</th>\n",
       "      <th>Unnamed: 75</th>\n",
       "      <th>Unnamed: 76</th>\n",
       "      <th>Unnamed: 77</th>\n",
       "      <th>Unnamed: 78</th>\n",
       "      <th>Unnamed: 79</th>\n",
       "    </tr>\n",
       "  </thead>\n",
       "  <tbody>\n",
       "    <tr>\n",
       "      <th>0</th>\n",
       "      <td>0.05</td>\n",
       "      <td>8000</td>\n",
       "      <td>36.0</td>\n",
       "      <td>241.28</td>\n",
       "      <td>2.11</td>\n",
       "      <td>0.0</td>\n",
       "      <td>50000.0</td>\n",
       "      <td>A</td>\n",
       "      <td>NaN</td>\n",
       "      <td>5 years</td>\n",
       "      <td>...</td>\n",
       "      <td>NaN</td>\n",
       "      <td>NaN</td>\n",
       "      <td>NaN</td>\n",
       "      <td>NaN</td>\n",
       "      <td>NaN</td>\n",
       "      <td>NaN</td>\n",
       "      <td>NaN</td>\n",
       "      <td>NaN</td>\n",
       "      <td>NaN</td>\n",
       "      <td>NaN</td>\n",
       "    </tr>\n",
       "    <tr>\n",
       "      <th>1</th>\n",
       "      <td>0.05</td>\n",
       "      <td>6000</td>\n",
       "      <td>36.0</td>\n",
       "      <td>180.96</td>\n",
       "      <td>5.73</td>\n",
       "      <td>0.0</td>\n",
       "      <td>52800.0</td>\n",
       "      <td>A</td>\n",
       "      <td>coral graphics</td>\n",
       "      <td>&lt; 1 year</td>\n",
       "      <td>...</td>\n",
       "      <td>NaN</td>\n",
       "      <td>NaN</td>\n",
       "      <td>NaN</td>\n",
       "      <td>NaN</td>\n",
       "      <td>NaN</td>\n",
       "      <td>NaN</td>\n",
       "      <td>NaN</td>\n",
       "      <td>NaN</td>\n",
       "      <td>NaN</td>\n",
       "      <td>NaN</td>\n",
       "    </tr>\n",
       "    <tr>\n",
       "      <th>2</th>\n",
       "      <td>0.05</td>\n",
       "      <td>6500</td>\n",
       "      <td>36.0</td>\n",
       "      <td>196.04</td>\n",
       "      <td>17.68</td>\n",
       "      <td>0.0</td>\n",
       "      <td>35352.0</td>\n",
       "      <td>A</td>\n",
       "      <td>NaN</td>\n",
       "      <td>NaN</td>\n",
       "      <td>...</td>\n",
       "      <td>NaN</td>\n",
       "      <td>NaN</td>\n",
       "      <td>NaN</td>\n",
       "      <td>NaN</td>\n",
       "      <td>NaN</td>\n",
       "      <td>NaN</td>\n",
       "      <td>NaN</td>\n",
       "      <td>NaN</td>\n",
       "      <td>NaN</td>\n",
       "      <td>NaN</td>\n",
       "    </tr>\n",
       "    <tr>\n",
       "      <th>3</th>\n",
       "      <td>0.05</td>\n",
       "      <td>8000</td>\n",
       "      <td>36.0</td>\n",
       "      <td>241.28</td>\n",
       "      <td>22.71</td>\n",
       "      <td>0.0</td>\n",
       "      <td>79200.0</td>\n",
       "      <td>A</td>\n",
       "      <td>Honeywell</td>\n",
       "      <td>NaN</td>\n",
       "      <td>...</td>\n",
       "      <td>NaN</td>\n",
       "      <td>NaN</td>\n",
       "      <td>NaN</td>\n",
       "      <td>NaN</td>\n",
       "      <td>NaN</td>\n",
       "      <td>NaN</td>\n",
       "      <td>NaN</td>\n",
       "      <td>NaN</td>\n",
       "      <td>NaN</td>\n",
       "      <td>NaN</td>\n",
       "    </tr>\n",
       "    <tr>\n",
       "      <th>4</th>\n",
       "      <td>0.05</td>\n",
       "      <td>5500</td>\n",
       "      <td>36.0</td>\n",
       "      <td>165.88</td>\n",
       "      <td>5.75</td>\n",
       "      <td>0.0</td>\n",
       "      <td>240000.0</td>\n",
       "      <td>A</td>\n",
       "      <td>O T Plus, Inc</td>\n",
       "      <td>10+ years</td>\n",
       "      <td>...</td>\n",
       "      <td>NaN</td>\n",
       "      <td>NaN</td>\n",
       "      <td>NaN</td>\n",
       "      <td>NaN</td>\n",
       "      <td>NaN</td>\n",
       "      <td>NaN</td>\n",
       "      <td>NaN</td>\n",
       "      <td>NaN</td>\n",
       "      <td>NaN</td>\n",
       "      <td>NaN</td>\n",
       "    </tr>\n",
       "  </tbody>\n",
       "</table>\n",
       "<p>5 rows × 80 columns</p>\n",
       "</div>"
      ],
      "text/plain": [
       "   int_rate loan_amnt  term (months)  installment    dti  delinq_2yrs  \\\n",
       "0      0.05      8000           36.0       241.28   2.11          0.0   \n",
       "1      0.05      6000           36.0       180.96   5.73          0.0   \n",
       "2      0.05      6500           36.0       196.04  17.68          0.0   \n",
       "3      0.05      8000           36.0       241.28  22.71          0.0   \n",
       "4      0.05      5500           36.0       165.88   5.75          0.0   \n",
       "\n",
       "   annual_inc grade       emp_title emp_length  ... Unnamed: 70 Unnamed: 71  \\\n",
       "0     50000.0     A             NaN    5 years  ...         NaN         NaN   \n",
       "1     52800.0     A  coral graphics   < 1 year  ...         NaN         NaN   \n",
       "2     35352.0     A             NaN        NaN  ...         NaN         NaN   \n",
       "3     79200.0     A       Honeywell        NaN  ...         NaN         NaN   \n",
       "4    240000.0     A   O T Plus, Inc  10+ years  ...         NaN         NaN   \n",
       "\n",
       "  Unnamed: 72 Unnamed: 73 Unnamed: 74 Unnamed: 75 Unnamed: 76 Unnamed: 77  \\\n",
       "0         NaN         NaN         NaN         NaN         NaN         NaN   \n",
       "1         NaN         NaN         NaN         NaN         NaN         NaN   \n",
       "2         NaN         NaN         NaN         NaN         NaN         NaN   \n",
       "3         NaN         NaN         NaN         NaN         NaN         NaN   \n",
       "4         NaN         NaN         NaN         NaN         NaN         NaN   \n",
       "\n",
       "  Unnamed: 78  Unnamed: 79  \n",
       "0         NaN          NaN  \n",
       "1         NaN          NaN  \n",
       "2         NaN          NaN  \n",
       "3         NaN          NaN  \n",
       "4         NaN          NaN  \n",
       "\n",
       "[5 rows x 80 columns]"
      ]
     },
     "execution_count": 1,
     "metadata": {},
     "output_type": "execute_result"
    }
   ],
   "source": [
    "import pandas as pd\n",
    "import seaborn as sns\n",
    "from matplotlib import pyplot as plt\n",
    "import numpy as np\n",
    "import statsmodels.formula.api as smf\n",
    "\n",
    "df = pd.read_csv(\"../Data/LendingClub_Data.csv\", skiprows=1, low_memory=False) # skip the first row, low_memory to avoid dtype warnings\n",
    "df.head()\n"
   ]
  },
  {
   "cell_type": "markdown",
   "id": "e40d4e6f",
   "metadata": {},
   "source": [
    "**Lending Club Data Dictionary**\n",
    "\n",
    "| Column Name           | Description |\n",
    "|------------------------|-------------|\n",
    "| `int_rate`             | Interest rate on the loan (annual percentage). |\n",
    "| `loan_amnt`            | The amount of the loan applied for by the borrower. |\n",
    "| `term (months)`        | The loan term in months (e.g., 36 or 60 months). |\n",
    "| `installment`          | The fixed monthly payment owed by the borrower if the loan is funded. |\n",
    "| `dti`                  | Debt-to-Income ratio: borrower’s monthly debt payments divided by monthly income. |\n",
    "| `delinq_2yrs`          | Number of times borrower has been delinquent (30+ days) in the past 2 years. |\n",
    "| `annual_inc`           | The self-reported annual income of the borrower. |\n",
    "| `grade`                | Lending Club’s assigned loan grade (A–G). |\n",
    "| `emp_title`            | Borrower’s job title (free text, messy, many unique values). |\n",
    "| `emp_length`           | Employment length in years (e.g., \"10+ years\", \"3 years\"). |\n",
    "| `home_ownership`       | The borrower’s home ownership status (e.g., RENT, OWN, MORTGAGE). |\n",
    "| `verification_status`  | Indicates if the borrower’s income was verified. |\n",
    "| `issue_d`              | The date the loan was issued (month-year). |\n",
    "| `zip_code`             | Borrower’s zip code (masked, first 3 digits only). |\n",
    "| `addr_state`           | The borrower’s state of residence. |\n",
    "| `loan_status`          | Current status of the loan (e.g., Fully Paid, Charged Off, Current). |\n",
    "| `desc`                 | Loan description provided by the borrower (free text, often messy). |\n",
    "| `purpose`              | Category of the loan purpose (e.g., debt consolidation, credit card, home improvement). |\n",
    "| `title`                | Loan title provided by the borrower (free text, often overlaps with purpose). |\n"
   ]
  },
  {
   "cell_type": "code",
   "execution_count": 2,
   "id": "6a724e28",
   "metadata": {},
   "outputs": [
    {
     "data": {
      "text/plain": [
       "(42538, 80)"
      ]
     },
     "execution_count": 2,
     "metadata": {},
     "output_type": "execute_result"
    }
   ],
   "source": [
    "df.shape"
   ]
  },
  {
   "cell_type": "code",
   "execution_count": 3,
   "id": "f1b2d5b7",
   "metadata": {},
   "outputs": [
    {
     "data": {
      "application/vnd.microsoft.datawrangler.viewer.v0+json": {
       "columns": [
        {
         "name": "index",
         "rawType": "object",
         "type": "string"
        },
        {
         "name": "int_rate",
         "rawType": "float64",
         "type": "float"
        },
        {
         "name": "term (months)",
         "rawType": "float64",
         "type": "float"
        },
        {
         "name": "installment",
         "rawType": "float64",
         "type": "float"
        },
        {
         "name": "dti",
         "rawType": "float64",
         "type": "float"
        },
        {
         "name": "delinq_2yrs",
         "rawType": "float64",
         "type": "float"
        },
        {
         "name": "annual_inc",
         "rawType": "float64",
         "type": "float"
        },
        {
         "name": "Unnamed: 19",
         "rawType": "float64",
         "type": "float"
        },
        {
         "name": "Unnamed: 20",
         "rawType": "float64",
         "type": "float"
        },
        {
         "name": "Unnamed: 21",
         "rawType": "float64",
         "type": "float"
        },
        {
         "name": "Unnamed: 22",
         "rawType": "float64",
         "type": "float"
        },
        {
         "name": "Unnamed: 23",
         "rawType": "float64",
         "type": "float"
        },
        {
         "name": "Unnamed: 24",
         "rawType": "float64",
         "type": "float"
        },
        {
         "name": "Unnamed: 25",
         "rawType": "float64",
         "type": "float"
        },
        {
         "name": "Unnamed: 26",
         "rawType": "float64",
         "type": "float"
        },
        {
         "name": "Unnamed: 27",
         "rawType": "float64",
         "type": "float"
        },
        {
         "name": "Unnamed: 28",
         "rawType": "float64",
         "type": "float"
        },
        {
         "name": "Unnamed: 29",
         "rawType": "float64",
         "type": "float"
        },
        {
         "name": "Unnamed: 30",
         "rawType": "float64",
         "type": "float"
        },
        {
         "name": "Unnamed: 31",
         "rawType": "float64",
         "type": "float"
        },
        {
         "name": "Unnamed: 32",
         "rawType": "float64",
         "type": "float"
        },
        {
         "name": "Unnamed: 33",
         "rawType": "float64",
         "type": "float"
        },
        {
         "name": "Unnamed: 34",
         "rawType": "float64",
         "type": "float"
        },
        {
         "name": "Unnamed: 35",
         "rawType": "float64",
         "type": "float"
        },
        {
         "name": "Unnamed: 36",
         "rawType": "float64",
         "type": "float"
        },
        {
         "name": "Unnamed: 37",
         "rawType": "float64",
         "type": "float"
        },
        {
         "name": "Unnamed: 38",
         "rawType": "float64",
         "type": "float"
        },
        {
         "name": "Unnamed: 39",
         "rawType": "float64",
         "type": "float"
        },
        {
         "name": "Unnamed: 40",
         "rawType": "float64",
         "type": "float"
        },
        {
         "name": "Unnamed: 41",
         "rawType": "float64",
         "type": "float"
        },
        {
         "name": "Unnamed: 42",
         "rawType": "float64",
         "type": "float"
        },
        {
         "name": "Unnamed: 43",
         "rawType": "float64",
         "type": "float"
        },
        {
         "name": "Unnamed: 44",
         "rawType": "float64",
         "type": "float"
        },
        {
         "name": "Unnamed: 45",
         "rawType": "float64",
         "type": "float"
        },
        {
         "name": "Unnamed: 46",
         "rawType": "float64",
         "type": "float"
        },
        {
         "name": "Unnamed: 47",
         "rawType": "float64",
         "type": "float"
        },
        {
         "name": "Unnamed: 48",
         "rawType": "float64",
         "type": "float"
        },
        {
         "name": "Unnamed: 49",
         "rawType": "float64",
         "type": "float"
        },
        {
         "name": "Unnamed: 50",
         "rawType": "float64",
         "type": "float"
        },
        {
         "name": "Unnamed: 51",
         "rawType": "float64",
         "type": "float"
        },
        {
         "name": "Unnamed: 52",
         "rawType": "float64",
         "type": "float"
        },
        {
         "name": "Unnamed: 53",
         "rawType": "float64",
         "type": "float"
        },
        {
         "name": "Unnamed: 54",
         "rawType": "float64",
         "type": "float"
        },
        {
         "name": "Unnamed: 55",
         "rawType": "float64",
         "type": "float"
        },
        {
         "name": "Unnamed: 56",
         "rawType": "float64",
         "type": "float"
        },
        {
         "name": "Unnamed: 57",
         "rawType": "float64",
         "type": "float"
        },
        {
         "name": "Unnamed: 58",
         "rawType": "float64",
         "type": "float"
        },
        {
         "name": "Unnamed: 59",
         "rawType": "float64",
         "type": "float"
        },
        {
         "name": "Unnamed: 60",
         "rawType": "float64",
         "type": "float"
        },
        {
         "name": "Unnamed: 61",
         "rawType": "float64",
         "type": "float"
        },
        {
         "name": "Unnamed: 62",
         "rawType": "float64",
         "type": "float"
        },
        {
         "name": "Unnamed: 63",
         "rawType": "float64",
         "type": "float"
        },
        {
         "name": "Unnamed: 64",
         "rawType": "float64",
         "type": "float"
        },
        {
         "name": "Unnamed: 65",
         "rawType": "float64",
         "type": "float"
        },
        {
         "name": "Unnamed: 66",
         "rawType": "float64",
         "type": "float"
        },
        {
         "name": "Unnamed: 67",
         "rawType": "float64",
         "type": "float"
        },
        {
         "name": "Unnamed: 68",
         "rawType": "float64",
         "type": "float"
        },
        {
         "name": "Unnamed: 69",
         "rawType": "float64",
         "type": "float"
        },
        {
         "name": "Unnamed: 70",
         "rawType": "float64",
         "type": "float"
        },
        {
         "name": "Unnamed: 71",
         "rawType": "float64",
         "type": "float"
        },
        {
         "name": "Unnamed: 72",
         "rawType": "float64",
         "type": "float"
        },
        {
         "name": "Unnamed: 73",
         "rawType": "float64",
         "type": "float"
        },
        {
         "name": "Unnamed: 74",
         "rawType": "float64",
         "type": "float"
        },
        {
         "name": "Unnamed: 75",
         "rawType": "float64",
         "type": "float"
        },
        {
         "name": "Unnamed: 76",
         "rawType": "float64",
         "type": "float"
        },
        {
         "name": "Unnamed: 77",
         "rawType": "float64",
         "type": "float"
        },
        {
         "name": "Unnamed: 78",
         "rawType": "float64",
         "type": "float"
        },
        {
         "name": "Unnamed: 79",
         "rawType": "float64",
         "type": "float"
        }
       ],
       "ref": "f17af2e5-33b3-400b-ae6f-fa6bc5e11906",
       "rows": [
        [
         "count",
         "37869.0",
         "37869.0",
         "37869.0",
         "37869.0",
         "37869.0",
         "37869.0",
         "0.0",
         "0.0",
         "0.0",
         "0.0",
         "0.0",
         "0.0",
         "0.0",
         "0.0",
         "0.0",
         "0.0",
         "0.0",
         "0.0",
         "0.0",
         "0.0",
         "0.0",
         "0.0",
         "0.0",
         "0.0",
         "0.0",
         "0.0",
         "0.0",
         "0.0",
         "0.0",
         "0.0",
         "0.0",
         "0.0",
         "0.0",
         "0.0",
         "0.0",
         "0.0",
         "0.0",
         "0.0",
         "0.0",
         "0.0",
         "0.0",
         "0.0",
         "0.0",
         "0.0",
         "0.0",
         "0.0",
         "0.0",
         "0.0",
         "0.0",
         "0.0",
         "0.0",
         "0.0",
         "0.0",
         "0.0",
         "0.0",
         "0.0",
         "0.0",
         "0.0",
         "0.0",
         "0.0",
         "0.0",
         "0.0",
         "0.0",
         "0.0",
         "0.0",
         "2660.0",
         "2720.0"
        ],
        [
         "mean",
         "0.12026390451292616",
         "42.46122157965618",
         "332.5813541419103",
         "13.28416197945549",
         "0.14555441125986954",
         "69147.8640278328",
         null,
         null,
         null,
         null,
         null,
         null,
         null,
         null,
         null,
         null,
         null,
         null,
         null,
         null,
         null,
         null,
         null,
         null,
         null,
         null,
         null,
         null,
         null,
         null,
         null,
         null,
         null,
         null,
         null,
         null,
         null,
         null,
         null,
         null,
         null,
         null,
         null,
         null,
         null,
         null,
         null,
         null,
         null,
         null,
         null,
         null,
         null,
         null,
         null,
         null,
         null,
         null,
         null,
         null,
         null,
         null,
         null,
         null,
         null,
         "0.0",
         "2.235294117647059"
        ],
        [
         "std",
         "0.037264413747284036",
         "10.645418082990428",
         "214.28982556127593",
         "6.686635811608803",
         "0.49117338712184155",
         "61667.031197570934",
         null,
         null,
         null,
         null,
         null,
         null,
         null,
         null,
         null,
         null,
         null,
         null,
         null,
         null,
         null,
         null,
         null,
         null,
         null,
         null,
         null,
         null,
         null,
         null,
         null,
         null,
         null,
         null,
         null,
         null,
         null,
         null,
         null,
         null,
         null,
         null,
         null,
         null,
         null,
         null,
         null,
         null,
         null,
         null,
         null,
         null,
         null,
         null,
         null,
         null,
         null,
         null,
         null,
         null,
         null,
         null,
         null,
         null,
         null,
         "0.0",
         "116.06194116079263"
        ],
        [
         "min",
         "0.05",
         "36.0",
         "15.68",
         "0.0",
         "0.0",
         "4000.0",
         null,
         null,
         null,
         null,
         null,
         null,
         null,
         null,
         null,
         null,
         null,
         null,
         null,
         null,
         null,
         null,
         null,
         null,
         null,
         null,
         null,
         null,
         null,
         null,
         null,
         null,
         null,
         null,
         null,
         null,
         null,
         null,
         null,
         null,
         null,
         null,
         null,
         null,
         null,
         null,
         null,
         null,
         null,
         null,
         null,
         null,
         null,
         null,
         null,
         null,
         null,
         null,
         null,
         null,
         null,
         null,
         null,
         null,
         null,
         "0.0",
         "0.0"
        ],
        [
         "25%",
         "0.09",
         "36.0",
         "168.59",
         "8.14",
         "0.0",
         "40800.0",
         null,
         null,
         null,
         null,
         null,
         null,
         null,
         null,
         null,
         null,
         null,
         null,
         null,
         null,
         null,
         null,
         null,
         null,
         null,
         null,
         null,
         null,
         null,
         null,
         null,
         null,
         null,
         null,
         null,
         null,
         null,
         null,
         null,
         null,
         null,
         null,
         null,
         null,
         null,
         null,
         null,
         null,
         null,
         null,
         null,
         null,
         null,
         null,
         null,
         null,
         null,
         null,
         null,
         null,
         null,
         null,
         null,
         null,
         null,
         "0.0",
         "0.0"
        ],
        [
         "50%",
         "0.12",
         "36.0",
         "288.33",
         "13.36",
         "0.0",
         "59534.0",
         null,
         null,
         null,
         null,
         null,
         null,
         null,
         null,
         null,
         null,
         null,
         null,
         null,
         null,
         null,
         null,
         null,
         null,
         null,
         null,
         null,
         null,
         null,
         null,
         null,
         null,
         null,
         null,
         null,
         null,
         null,
         null,
         null,
         null,
         null,
         null,
         null,
         null,
         null,
         null,
         null,
         null,
         null,
         null,
         null,
         null,
         null,
         null,
         null,
         null,
         null,
         null,
         null,
         null,
         null,
         null,
         null,
         null,
         null,
         "0.0",
         "0.0"
        ],
        [
         "75%",
         "0.15",
         "60.0",
         "449.05",
         "18.58",
         "0.0",
         "82800.0",
         null,
         null,
         null,
         null,
         null,
         null,
         null,
         null,
         null,
         null,
         null,
         null,
         null,
         null,
         null,
         null,
         null,
         null,
         null,
         null,
         null,
         null,
         null,
         null,
         null,
         null,
         null,
         null,
         null,
         null,
         null,
         null,
         null,
         null,
         null,
         null,
         null,
         null,
         null,
         null,
         null,
         null,
         null,
         null,
         null,
         null,
         null,
         null,
         null,
         null,
         null,
         null,
         null,
         null,
         null,
         null,
         null,
         null,
         null,
         "0.0",
         "0.0"
        ],
        [
         "max",
         "0.25",
         "60.0",
         "1305.19",
         "29.99",
         "11.0",
         "6000000.0",
         null,
         null,
         null,
         null,
         null,
         null,
         null,
         null,
         null,
         null,
         null,
         null,
         null,
         null,
         null,
         null,
         null,
         null,
         null,
         null,
         null,
         null,
         null,
         null,
         null,
         null,
         null,
         null,
         null,
         null,
         null,
         null,
         null,
         null,
         null,
         null,
         null,
         null,
         null,
         null,
         null,
         null,
         null,
         null,
         null,
         null,
         null,
         null,
         null,
         null,
         null,
         null,
         null,
         null,
         null,
         null,
         null,
         null,
         null,
         "0.0",
         "6053.0"
        ]
       ],
       "shape": {
        "columns": 67,
        "rows": 8
       }
      },
      "text/html": [
       "<div>\n",
       "<style scoped>\n",
       "    .dataframe tbody tr th:only-of-type {\n",
       "        vertical-align: middle;\n",
       "    }\n",
       "\n",
       "    .dataframe tbody tr th {\n",
       "        vertical-align: top;\n",
       "    }\n",
       "\n",
       "    .dataframe thead th {\n",
       "        text-align: right;\n",
       "    }\n",
       "</style>\n",
       "<table border=\"1\" class=\"dataframe\">\n",
       "  <thead>\n",
       "    <tr style=\"text-align: right;\">\n",
       "      <th></th>\n",
       "      <th>int_rate</th>\n",
       "      <th>term (months)</th>\n",
       "      <th>installment</th>\n",
       "      <th>dti</th>\n",
       "      <th>delinq_2yrs</th>\n",
       "      <th>annual_inc</th>\n",
       "      <th>Unnamed: 19</th>\n",
       "      <th>Unnamed: 20</th>\n",
       "      <th>Unnamed: 21</th>\n",
       "      <th>Unnamed: 22</th>\n",
       "      <th>...</th>\n",
       "      <th>Unnamed: 70</th>\n",
       "      <th>Unnamed: 71</th>\n",
       "      <th>Unnamed: 72</th>\n",
       "      <th>Unnamed: 73</th>\n",
       "      <th>Unnamed: 74</th>\n",
       "      <th>Unnamed: 75</th>\n",
       "      <th>Unnamed: 76</th>\n",
       "      <th>Unnamed: 77</th>\n",
       "      <th>Unnamed: 78</th>\n",
       "      <th>Unnamed: 79</th>\n",
       "    </tr>\n",
       "  </thead>\n",
       "  <tbody>\n",
       "    <tr>\n",
       "      <th>count</th>\n",
       "      <td>37869.000000</td>\n",
       "      <td>37869.000000</td>\n",
       "      <td>37869.000000</td>\n",
       "      <td>37869.000000</td>\n",
       "      <td>37869.000000</td>\n",
       "      <td>3.786900e+04</td>\n",
       "      <td>0.0</td>\n",
       "      <td>0.0</td>\n",
       "      <td>0.0</td>\n",
       "      <td>0.0</td>\n",
       "      <td>...</td>\n",
       "      <td>0.0</td>\n",
       "      <td>0.0</td>\n",
       "      <td>0.0</td>\n",
       "      <td>0.0</td>\n",
       "      <td>0.0</td>\n",
       "      <td>0.0</td>\n",
       "      <td>0.0</td>\n",
       "      <td>0.0</td>\n",
       "      <td>2660.0</td>\n",
       "      <td>2720.000000</td>\n",
       "    </tr>\n",
       "    <tr>\n",
       "      <th>mean</th>\n",
       "      <td>0.120264</td>\n",
       "      <td>42.461222</td>\n",
       "      <td>332.581354</td>\n",
       "      <td>13.284162</td>\n",
       "      <td>0.145554</td>\n",
       "      <td>6.914786e+04</td>\n",
       "      <td>NaN</td>\n",
       "      <td>NaN</td>\n",
       "      <td>NaN</td>\n",
       "      <td>NaN</td>\n",
       "      <td>...</td>\n",
       "      <td>NaN</td>\n",
       "      <td>NaN</td>\n",
       "      <td>NaN</td>\n",
       "      <td>NaN</td>\n",
       "      <td>NaN</td>\n",
       "      <td>NaN</td>\n",
       "      <td>NaN</td>\n",
       "      <td>NaN</td>\n",
       "      <td>0.0</td>\n",
       "      <td>2.235294</td>\n",
       "    </tr>\n",
       "    <tr>\n",
       "      <th>std</th>\n",
       "      <td>0.037264</td>\n",
       "      <td>10.645418</td>\n",
       "      <td>214.289826</td>\n",
       "      <td>6.686636</td>\n",
       "      <td>0.491173</td>\n",
       "      <td>6.166703e+04</td>\n",
       "      <td>NaN</td>\n",
       "      <td>NaN</td>\n",
       "      <td>NaN</td>\n",
       "      <td>NaN</td>\n",
       "      <td>...</td>\n",
       "      <td>NaN</td>\n",
       "      <td>NaN</td>\n",
       "      <td>NaN</td>\n",
       "      <td>NaN</td>\n",
       "      <td>NaN</td>\n",
       "      <td>NaN</td>\n",
       "      <td>NaN</td>\n",
       "      <td>NaN</td>\n",
       "      <td>0.0</td>\n",
       "      <td>116.061941</td>\n",
       "    </tr>\n",
       "    <tr>\n",
       "      <th>min</th>\n",
       "      <td>0.050000</td>\n",
       "      <td>36.000000</td>\n",
       "      <td>15.680000</td>\n",
       "      <td>0.000000</td>\n",
       "      <td>0.000000</td>\n",
       "      <td>4.000000e+03</td>\n",
       "      <td>NaN</td>\n",
       "      <td>NaN</td>\n",
       "      <td>NaN</td>\n",
       "      <td>NaN</td>\n",
       "      <td>...</td>\n",
       "      <td>NaN</td>\n",
       "      <td>NaN</td>\n",
       "      <td>NaN</td>\n",
       "      <td>NaN</td>\n",
       "      <td>NaN</td>\n",
       "      <td>NaN</td>\n",
       "      <td>NaN</td>\n",
       "      <td>NaN</td>\n",
       "      <td>0.0</td>\n",
       "      <td>0.000000</td>\n",
       "    </tr>\n",
       "    <tr>\n",
       "      <th>25%</th>\n",
       "      <td>0.090000</td>\n",
       "      <td>36.000000</td>\n",
       "      <td>168.590000</td>\n",
       "      <td>8.140000</td>\n",
       "      <td>0.000000</td>\n",
       "      <td>4.080000e+04</td>\n",
       "      <td>NaN</td>\n",
       "      <td>NaN</td>\n",
       "      <td>NaN</td>\n",
       "      <td>NaN</td>\n",
       "      <td>...</td>\n",
       "      <td>NaN</td>\n",
       "      <td>NaN</td>\n",
       "      <td>NaN</td>\n",
       "      <td>NaN</td>\n",
       "      <td>NaN</td>\n",
       "      <td>NaN</td>\n",
       "      <td>NaN</td>\n",
       "      <td>NaN</td>\n",
       "      <td>0.0</td>\n",
       "      <td>0.000000</td>\n",
       "    </tr>\n",
       "    <tr>\n",
       "      <th>50%</th>\n",
       "      <td>0.120000</td>\n",
       "      <td>36.000000</td>\n",
       "      <td>288.330000</td>\n",
       "      <td>13.360000</td>\n",
       "      <td>0.000000</td>\n",
       "      <td>5.953400e+04</td>\n",
       "      <td>NaN</td>\n",
       "      <td>NaN</td>\n",
       "      <td>NaN</td>\n",
       "      <td>NaN</td>\n",
       "      <td>...</td>\n",
       "      <td>NaN</td>\n",
       "      <td>NaN</td>\n",
       "      <td>NaN</td>\n",
       "      <td>NaN</td>\n",
       "      <td>NaN</td>\n",
       "      <td>NaN</td>\n",
       "      <td>NaN</td>\n",
       "      <td>NaN</td>\n",
       "      <td>0.0</td>\n",
       "      <td>0.000000</td>\n",
       "    </tr>\n",
       "    <tr>\n",
       "      <th>75%</th>\n",
       "      <td>0.150000</td>\n",
       "      <td>60.000000</td>\n",
       "      <td>449.050000</td>\n",
       "      <td>18.580000</td>\n",
       "      <td>0.000000</td>\n",
       "      <td>8.280000e+04</td>\n",
       "      <td>NaN</td>\n",
       "      <td>NaN</td>\n",
       "      <td>NaN</td>\n",
       "      <td>NaN</td>\n",
       "      <td>...</td>\n",
       "      <td>NaN</td>\n",
       "      <td>NaN</td>\n",
       "      <td>NaN</td>\n",
       "      <td>NaN</td>\n",
       "      <td>NaN</td>\n",
       "      <td>NaN</td>\n",
       "      <td>NaN</td>\n",
       "      <td>NaN</td>\n",
       "      <td>0.0</td>\n",
       "      <td>0.000000</td>\n",
       "    </tr>\n",
       "    <tr>\n",
       "      <th>max</th>\n",
       "      <td>0.250000</td>\n",
       "      <td>60.000000</td>\n",
       "      <td>1305.190000</td>\n",
       "      <td>29.990000</td>\n",
       "      <td>11.000000</td>\n",
       "      <td>6.000000e+06</td>\n",
       "      <td>NaN</td>\n",
       "      <td>NaN</td>\n",
       "      <td>NaN</td>\n",
       "      <td>NaN</td>\n",
       "      <td>...</td>\n",
       "      <td>NaN</td>\n",
       "      <td>NaN</td>\n",
       "      <td>NaN</td>\n",
       "      <td>NaN</td>\n",
       "      <td>NaN</td>\n",
       "      <td>NaN</td>\n",
       "      <td>NaN</td>\n",
       "      <td>NaN</td>\n",
       "      <td>0.0</td>\n",
       "      <td>6053.000000</td>\n",
       "    </tr>\n",
       "  </tbody>\n",
       "</table>\n",
       "<p>8 rows × 67 columns</p>\n",
       "</div>"
      ],
      "text/plain": [
       "           int_rate  term (months)   installment           dti   delinq_2yrs  \\\n",
       "count  37869.000000   37869.000000  37869.000000  37869.000000  37869.000000   \n",
       "mean       0.120264      42.461222    332.581354     13.284162      0.145554   \n",
       "std        0.037264      10.645418    214.289826      6.686636      0.491173   \n",
       "min        0.050000      36.000000     15.680000      0.000000      0.000000   \n",
       "25%        0.090000      36.000000    168.590000      8.140000      0.000000   \n",
       "50%        0.120000      36.000000    288.330000     13.360000      0.000000   \n",
       "75%        0.150000      60.000000    449.050000     18.580000      0.000000   \n",
       "max        0.250000      60.000000   1305.190000     29.990000     11.000000   \n",
       "\n",
       "         annual_inc  Unnamed: 19  Unnamed: 20  Unnamed: 21  Unnamed: 22  ...  \\\n",
       "count  3.786900e+04          0.0          0.0          0.0          0.0  ...   \n",
       "mean   6.914786e+04          NaN          NaN          NaN          NaN  ...   \n",
       "std    6.166703e+04          NaN          NaN          NaN          NaN  ...   \n",
       "min    4.000000e+03          NaN          NaN          NaN          NaN  ...   \n",
       "25%    4.080000e+04          NaN          NaN          NaN          NaN  ...   \n",
       "50%    5.953400e+04          NaN          NaN          NaN          NaN  ...   \n",
       "75%    8.280000e+04          NaN          NaN          NaN          NaN  ...   \n",
       "max    6.000000e+06          NaN          NaN          NaN          NaN  ...   \n",
       "\n",
       "       Unnamed: 70  Unnamed: 71  Unnamed: 72  Unnamed: 73  Unnamed: 74  \\\n",
       "count          0.0          0.0          0.0          0.0          0.0   \n",
       "mean           NaN          NaN          NaN          NaN          NaN   \n",
       "std            NaN          NaN          NaN          NaN          NaN   \n",
       "min            NaN          NaN          NaN          NaN          NaN   \n",
       "25%            NaN          NaN          NaN          NaN          NaN   \n",
       "50%            NaN          NaN          NaN          NaN          NaN   \n",
       "75%            NaN          NaN          NaN          NaN          NaN   \n",
       "max            NaN          NaN          NaN          NaN          NaN   \n",
       "\n",
       "       Unnamed: 75  Unnamed: 76  Unnamed: 77  Unnamed: 78  Unnamed: 79  \n",
       "count          0.0          0.0          0.0       2660.0  2720.000000  \n",
       "mean           NaN          NaN          NaN          0.0     2.235294  \n",
       "std            NaN          NaN          NaN          0.0   116.061941  \n",
       "min            NaN          NaN          NaN          0.0     0.000000  \n",
       "25%            NaN          NaN          NaN          0.0     0.000000  \n",
       "50%            NaN          NaN          NaN          0.0     0.000000  \n",
       "75%            NaN          NaN          NaN          0.0     0.000000  \n",
       "max            NaN          NaN          NaN          0.0  6053.000000  \n",
       "\n",
       "[8 rows x 67 columns]"
      ]
     },
     "execution_count": 3,
     "metadata": {},
     "output_type": "execute_result"
    }
   ],
   "source": [
    "df.describe()"
   ]
  },
  {
   "cell_type": "code",
   "execution_count": 4,
   "id": "cc8f2500",
   "metadata": {},
   "outputs": [
    {
     "data": {
      "application/vnd.microsoft.datawrangler.viewer.v0+json": {
       "columns": [
        {
         "name": "index",
         "rawType": "object",
         "type": "string"
        },
        {
         "name": "0",
         "rawType": "object",
         "type": "unknown"
        }
       ],
       "ref": "a3871fa5-1f09-4991-8b32-4b3269e777d3",
       "rows": [
        [
         "int_rate",
         "float64"
        ],
        [
         "loan_amnt",
         "object"
        ],
        [
         "term (months)",
         "float64"
        ],
        [
         "installment",
         "float64"
        ],
        [
         "dti",
         "float64"
        ],
        [
         "delinq_2yrs",
         "float64"
        ],
        [
         "annual_inc",
         "float64"
        ],
        [
         "grade",
         "object"
        ],
        [
         "emp_title",
         "object"
        ],
        [
         "emp_length",
         "object"
        ],
        [
         "home_ownership",
         "object"
        ],
        [
         "verification_status",
         "object"
        ],
        [
         "issue_d",
         "object"
        ],
        [
         "zip_code",
         "object"
        ],
        [
         "addr_state",
         "object"
        ],
        [
         "loan_status",
         "object"
        ],
        [
         "desc",
         "object"
        ],
        [
         "purpose",
         "object"
        ],
        [
         "title",
         "object"
        ],
        [
         "Unnamed: 19",
         "float64"
        ],
        [
         "Unnamed: 20",
         "float64"
        ],
        [
         "Unnamed: 21",
         "float64"
        ],
        [
         "Unnamed: 22",
         "float64"
        ],
        [
         "Unnamed: 23",
         "float64"
        ],
        [
         "Unnamed: 24",
         "float64"
        ],
        [
         "Unnamed: 25",
         "float64"
        ],
        [
         "Unnamed: 26",
         "float64"
        ],
        [
         "Unnamed: 27",
         "float64"
        ],
        [
         "Unnamed: 28",
         "float64"
        ],
        [
         "Unnamed: 29",
         "float64"
        ],
        [
         "Unnamed: 30",
         "float64"
        ],
        [
         "Unnamed: 31",
         "float64"
        ],
        [
         "Unnamed: 32",
         "float64"
        ],
        [
         "Unnamed: 33",
         "float64"
        ],
        [
         "Unnamed: 34",
         "float64"
        ],
        [
         "Unnamed: 35",
         "float64"
        ],
        [
         "Unnamed: 36",
         "float64"
        ],
        [
         "Unnamed: 37",
         "float64"
        ],
        [
         "Unnamed: 38",
         "float64"
        ],
        [
         "Unnamed: 39",
         "float64"
        ],
        [
         "Unnamed: 40",
         "float64"
        ],
        [
         "Unnamed: 41",
         "float64"
        ],
        [
         "Unnamed: 42",
         "float64"
        ],
        [
         "Unnamed: 43",
         "float64"
        ],
        [
         "Unnamed: 44",
         "float64"
        ],
        [
         "Unnamed: 45",
         "float64"
        ],
        [
         "Unnamed: 46",
         "float64"
        ],
        [
         "Unnamed: 47",
         "float64"
        ],
        [
         "Unnamed: 48",
         "float64"
        ],
        [
         "Unnamed: 49",
         "float64"
        ]
       ],
       "shape": {
        "columns": 1,
        "rows": 80
       }
      },
      "text/plain": [
       "int_rate         float64\n",
       "loan_amnt         object\n",
       "term (months)    float64\n",
       "installment      float64\n",
       "dti              float64\n",
       "                  ...   \n",
       "Unnamed: 75      float64\n",
       "Unnamed: 76      float64\n",
       "Unnamed: 77      float64\n",
       "Unnamed: 78      float64\n",
       "Unnamed: 79      float64\n",
       "Length: 80, dtype: object"
      ]
     },
     "execution_count": 4,
     "metadata": {},
     "output_type": "execute_result"
    }
   ],
   "source": [
    "df.dtypes"
   ]
  },
  {
   "cell_type": "markdown",
   "id": "b3ca4fb7",
   "metadata": {},
   "source": [
    "**Quick cleaning of the data**"
   ]
  },
  {
   "cell_type": "code",
   "execution_count": null,
   "id": "08a0940a",
   "metadata": {},
   "outputs": [
    {
     "data": {
      "application/vnd.microsoft.datawrangler.viewer.v0+json": {
       "columns": [
        {
         "name": "index",
         "rawType": "int64",
         "type": "integer"
        },
        {
         "name": "int_rate",
         "rawType": "float64",
         "type": "float"
        },
        {
         "name": "loan_amnt",
         "rawType": "int64",
         "type": "integer"
        },
        {
         "name": "dti",
         "rawType": "float64",
         "type": "float"
        },
        {
         "name": "delinq_2yrs",
         "rawType": "category",
         "type": "unknown"
        },
        {
         "name": "annual_inc",
         "rawType": "float64",
         "type": "float"
        },
        {
         "name": "grade",
         "rawType": "object",
         "type": "string"
        },
        {
         "name": "emp_length",
         "rawType": "object",
         "type": "unknown"
        },
        {
         "name": "home_ownership",
         "rawType": "object",
         "type": "string"
        },
        {
         "name": "verification_status",
         "rawType": "object",
         "type": "string"
        },
        {
         "name": "issue_d",
         "rawType": "datetime64[ns]",
         "type": "datetime"
        },
        {
         "name": "zip_code",
         "rawType": "object",
         "type": "string"
        },
        {
         "name": "addr_state",
         "rawType": "object",
         "type": "string"
        },
        {
         "name": "loan_status",
         "rawType": "object",
         "type": "string"
        },
        {
         "name": "desc",
         "rawType": "object",
         "type": "unknown"
        },
        {
         "name": "purpose",
         "rawType": "object",
         "type": "string"
        },
        {
         "name": "title",
         "rawType": "object",
         "type": "string"
        },
        {
         "name": "term",
         "rawType": "category",
         "type": "unknown"
        }
       ],
       "ref": "3b7059c0-20d2-4c57-9a92-db20b162d228",
       "rows": [
        [
         "0",
         "0.05",
         "8000",
         "2.11",
         "0.0",
         "50000.0",
         "A",
         "5 years",
         "MORTGAGE",
         "Verified",
         "2011-09-01 00:00:00",
         "977xx",
         "OR",
         "Fully Paid",
         "  Borrower added on 09/08/11 > Consolidating debt from credit cards into a single, lower interest loan.<br/>",
         "debt_consolidation",
         "Credit Card Payoff $8K",
         "36.0"
        ],
        [
         "1",
         "0.05",
         "6000",
         "5.73",
         "0.0",
         "52800.0",
         "A",
         "< 1 year",
         "MORTGAGE",
         "Source Verified",
         "2011-09-01 00:00:00",
         "228xx",
         "VA",
         "Charged Off",
         "  Borrower added on 09/08/11 > excellent credit<br/>stable employment<br/>plan to repay in full early<br/> Borrower added on 09/12/11 > excellent credit<br/>stable employment<br/>",
         "vacation",
         "bad choice",
         "36.0"
        ],
        [
         "2",
         "0.05",
         "6500",
         "17.68",
         "0.0",
         "35352.0",
         "A",
         null,
         "MORTGAGE",
         "Not Verified",
         "2011-09-01 00:00:00",
         "864xx",
         "AZ",
         "Fully Paid",
         "  Borrower added on 09/09/11 > I plan to use the money to pay off my credit cards.  I am a good borrower because I have never not paid off a loan I have gotten and the payments predicted for this loan are well within my budget.<br/>",
         "credit_card",
         "Credit Card Loan",
         "36.0"
        ],
        [
         "3",
         "0.05",
         "8000",
         "22.71",
         "0.0",
         "79200.0",
         "A",
         null,
         "MORTGAGE",
         "Verified",
         "2011-09-01 00:00:00",
         "322xx",
         "FL",
         "Fully Paid",
         "  Borrower added on 09/08/11 > Home improvement loan request<br/>",
         "home_improvement",
         "Home Improvement",
         "36.0"
        ],
        [
         "4",
         "0.05",
         "5500",
         "5.75",
         "0.0",
         "240000.0",
         "A",
         "10+ years",
         "MORTGAGE",
         "Source Verified",
         "2011-09-01 00:00:00",
         "278xx",
         "NC",
         "Fully Paid",
         null,
         "car",
         "Car Loan",
         "36.0"
        ]
       ],
       "shape": {
        "columns": 17,
        "rows": 5
       }
      },
      "text/html": [
       "<div>\n",
       "<style scoped>\n",
       "    .dataframe tbody tr th:only-of-type {\n",
       "        vertical-align: middle;\n",
       "    }\n",
       "\n",
       "    .dataframe tbody tr th {\n",
       "        vertical-align: top;\n",
       "    }\n",
       "\n",
       "    .dataframe thead th {\n",
       "        text-align: right;\n",
       "    }\n",
       "</style>\n",
       "<table border=\"1\" class=\"dataframe\">\n",
       "  <thead>\n",
       "    <tr style=\"text-align: right;\">\n",
       "      <th></th>\n",
       "      <th>int_rate</th>\n",
       "      <th>loan_amnt</th>\n",
       "      <th>dti</th>\n",
       "      <th>delinq_2yrs</th>\n",
       "      <th>annual_inc</th>\n",
       "      <th>grade</th>\n",
       "      <th>emp_length</th>\n",
       "      <th>home_ownership</th>\n",
       "      <th>verification_status</th>\n",
       "      <th>issue_d</th>\n",
       "      <th>zip_code</th>\n",
       "      <th>addr_state</th>\n",
       "      <th>loan_status</th>\n",
       "      <th>desc</th>\n",
       "      <th>purpose</th>\n",
       "      <th>title</th>\n",
       "      <th>term</th>\n",
       "    </tr>\n",
       "  </thead>\n",
       "  <tbody>\n",
       "    <tr>\n",
       "      <th>0</th>\n",
       "      <td>0.05</td>\n",
       "      <td>8000</td>\n",
       "      <td>2.11</td>\n",
       "      <td>0.0</td>\n",
       "      <td>50000.0</td>\n",
       "      <td>A</td>\n",
       "      <td>5 years</td>\n",
       "      <td>MORTGAGE</td>\n",
       "      <td>Verified</td>\n",
       "      <td>2011-09-01</td>\n",
       "      <td>977xx</td>\n",
       "      <td>OR</td>\n",
       "      <td>Fully Paid</td>\n",
       "      <td>Borrower added on 09/08/11 &gt; Consolidating d...</td>\n",
       "      <td>debt_consolidation</td>\n",
       "      <td>Credit Card Payoff $8K</td>\n",
       "      <td>36.0</td>\n",
       "    </tr>\n",
       "    <tr>\n",
       "      <th>1</th>\n",
       "      <td>0.05</td>\n",
       "      <td>6000</td>\n",
       "      <td>5.73</td>\n",
       "      <td>0.0</td>\n",
       "      <td>52800.0</td>\n",
       "      <td>A</td>\n",
       "      <td>&lt; 1 year</td>\n",
       "      <td>MORTGAGE</td>\n",
       "      <td>Source Verified</td>\n",
       "      <td>2011-09-01</td>\n",
       "      <td>228xx</td>\n",
       "      <td>VA</td>\n",
       "      <td>Charged Off</td>\n",
       "      <td>Borrower added on 09/08/11 &gt; excellent credi...</td>\n",
       "      <td>vacation</td>\n",
       "      <td>bad choice</td>\n",
       "      <td>36.0</td>\n",
       "    </tr>\n",
       "    <tr>\n",
       "      <th>2</th>\n",
       "      <td>0.05</td>\n",
       "      <td>6500</td>\n",
       "      <td>17.68</td>\n",
       "      <td>0.0</td>\n",
       "      <td>35352.0</td>\n",
       "      <td>A</td>\n",
       "      <td>NaN</td>\n",
       "      <td>MORTGAGE</td>\n",
       "      <td>Not Verified</td>\n",
       "      <td>2011-09-01</td>\n",
       "      <td>864xx</td>\n",
       "      <td>AZ</td>\n",
       "      <td>Fully Paid</td>\n",
       "      <td>Borrower added on 09/09/11 &gt; I plan to use t...</td>\n",
       "      <td>credit_card</td>\n",
       "      <td>Credit Card Loan</td>\n",
       "      <td>36.0</td>\n",
       "    </tr>\n",
       "    <tr>\n",
       "      <th>3</th>\n",
       "      <td>0.05</td>\n",
       "      <td>8000</td>\n",
       "      <td>22.71</td>\n",
       "      <td>0.0</td>\n",
       "      <td>79200.0</td>\n",
       "      <td>A</td>\n",
       "      <td>NaN</td>\n",
       "      <td>MORTGAGE</td>\n",
       "      <td>Verified</td>\n",
       "      <td>2011-09-01</td>\n",
       "      <td>322xx</td>\n",
       "      <td>FL</td>\n",
       "      <td>Fully Paid</td>\n",
       "      <td>Borrower added on 09/08/11 &gt; Home improvemen...</td>\n",
       "      <td>home_improvement</td>\n",
       "      <td>Home Improvement</td>\n",
       "      <td>36.0</td>\n",
       "    </tr>\n",
       "    <tr>\n",
       "      <th>4</th>\n",
       "      <td>0.05</td>\n",
       "      <td>5500</td>\n",
       "      <td>5.75</td>\n",
       "      <td>0.0</td>\n",
       "      <td>240000.0</td>\n",
       "      <td>A</td>\n",
       "      <td>10+ years</td>\n",
       "      <td>MORTGAGE</td>\n",
       "      <td>Source Verified</td>\n",
       "      <td>2011-09-01</td>\n",
       "      <td>278xx</td>\n",
       "      <td>NC</td>\n",
       "      <td>Fully Paid</td>\n",
       "      <td>NaN</td>\n",
       "      <td>car</td>\n",
       "      <td>Car Loan</td>\n",
       "      <td>36.0</td>\n",
       "    </tr>\n",
       "  </tbody>\n",
       "</table>\n",
       "</div>"
      ],
      "text/plain": [
       "   int_rate  loan_amnt    dti delinq_2yrs  annual_inc grade emp_length  \\\n",
       "0      0.05       8000   2.11         0.0     50000.0     A    5 years   \n",
       "1      0.05       6000   5.73         0.0     52800.0     A   < 1 year   \n",
       "2      0.05       6500  17.68         0.0     35352.0     A        NaN   \n",
       "3      0.05       8000  22.71         0.0     79200.0     A        NaN   \n",
       "4      0.05       5500   5.75         0.0    240000.0     A  10+ years   \n",
       "\n",
       "  home_ownership verification_status    issue_d zip_code addr_state  \\\n",
       "0       MORTGAGE            Verified 2011-09-01    977xx         OR   \n",
       "1       MORTGAGE     Source Verified 2011-09-01    228xx         VA   \n",
       "2       MORTGAGE        Not Verified 2011-09-01    864xx         AZ   \n",
       "3       MORTGAGE            Verified 2011-09-01    322xx         FL   \n",
       "4       MORTGAGE     Source Verified 2011-09-01    278xx         NC   \n",
       "\n",
       "   loan_status                                               desc  \\\n",
       "0   Fully Paid    Borrower added on 09/08/11 > Consolidating d...   \n",
       "1  Charged Off    Borrower added on 09/08/11 > excellent credi...   \n",
       "2   Fully Paid    Borrower added on 09/09/11 > I plan to use t...   \n",
       "3   Fully Paid    Borrower added on 09/08/11 > Home improvemen...   \n",
       "4   Fully Paid                                                NaN   \n",
       "\n",
       "              purpose                   title  term  \n",
       "0  debt_consolidation  Credit Card Payoff $8K  36.0  \n",
       "1            vacation              bad choice  36.0  \n",
       "2         credit_card        Credit Card Loan  36.0  \n",
       "3    home_improvement        Home Improvement  36.0  \n",
       "4                 car                Car Loan  36.0  "
      ]
     },
     "execution_count": 5,
     "metadata": {},
     "output_type": "execute_result"
    }
   ],
   "source": [
    "# DATA CLEANING STEPS\n",
    "\n",
    "# Step 1: Select only the first 19 columns (removes extra columns that may be empty or irrelevant)\n",
    "df_clean = df.iloc[:,:19]\n",
    "\n",
    "# Step 2: Remove rows where interest rate is missing (our target variable must be present)\n",
    "df_clean = df_clean[ df_clean['int_rate'].notna() ]\n",
    "\n",
    "# Step 3: Convert issue_d to datetime format for proper date handling\n",
    "# Format '%m/%d/%Y' specifies month/day/year, errors='coerce' converts invalid dates to NaT\n",
    "df_clean['issue_d'] = pd.to_datetime(df_clean['issue_d'], format='%m/%d/%Y', errors='coerce')\n",
    "\n",
    "# Step 4: Convert categorical variables to category dtype for better memory usage and analysis\n",
    "df_clean['term'] = df_clean['term (months)'].astype('category')  # Loan term (e.g., 36 months, 60 months)\n",
    "df_clean['delinq_2yrs'] = df_clean['delinq_2yrs'].astype('category')  # Number of delinquencies in past 2 years\n",
    "\n",
    "# Step 5: Ensure loan_amnt is numeric (convert any non-numeric values to NaN)\n",
    "df_clean['loan_amnt'] = pd.to_numeric(df_clean['loan_amnt'], errors='coerce')\n",
    "\n",
    "# Step 6: Remove columns that are either redundant or not useful for analysis\n",
    "# - 'emp_title': Too many unique values, not standardized\n",
    "# - 'installment': Can be calculated from loan_amnt and term\n",
    "# - 'term (months)': Redundant since we created 'term' category above\n",
    "df_clean = df_clean.drop(columns=['emp_title', 'installment', 'term (months)'])\n",
    "\n",
    "# Display the first few rows to verify cleaning\n",
    "df_clean.head()"
   ]
  },
  {
   "cell_type": "code",
   "execution_count": 6,
   "id": "b0fbd7e5",
   "metadata": {},
   "outputs": [
    {
     "data": {
      "application/vnd.microsoft.datawrangler.viewer.v0+json": {
       "columns": [
        {
         "name": "index",
         "rawType": "object",
         "type": "string"
        },
        {
         "name": "0",
         "rawType": "object",
         "type": "unknown"
        }
       ],
       "ref": "ef4192ed-61c1-4514-9000-772e470d3113",
       "rows": [
        [
         "int_rate",
         "float64"
        ],
        [
         "loan_amnt",
         "int64"
        ],
        [
         "dti",
         "float64"
        ],
        [
         "delinq_2yrs",
         "category"
        ],
        [
         "annual_inc",
         "float64"
        ],
        [
         "grade",
         "object"
        ],
        [
         "emp_length",
         "object"
        ],
        [
         "home_ownership",
         "object"
        ],
        [
         "verification_status",
         "object"
        ],
        [
         "issue_d",
         "datetime64[ns]"
        ],
        [
         "zip_code",
         "object"
        ],
        [
         "addr_state",
         "object"
        ],
        [
         "loan_status",
         "object"
        ],
        [
         "desc",
         "object"
        ],
        [
         "purpose",
         "object"
        ],
        [
         "title",
         "object"
        ],
        [
         "term",
         "category"
        ]
       ],
       "shape": {
        "columns": 1,
        "rows": 17
       }
      },
      "text/plain": [
       "int_rate                      float64\n",
       "loan_amnt                       int64\n",
       "dti                           float64\n",
       "delinq_2yrs                  category\n",
       "annual_inc                    float64\n",
       "grade                          object\n",
       "emp_length                     object\n",
       "home_ownership                 object\n",
       "verification_status            object\n",
       "issue_d                datetime64[ns]\n",
       "zip_code                       object\n",
       "addr_state                     object\n",
       "loan_status                    object\n",
       "desc                           object\n",
       "purpose                        object\n",
       "title                          object\n",
       "term                         category\n",
       "dtype: object"
      ]
     },
     "execution_count": 6,
     "metadata": {},
     "output_type": "execute_result"
    }
   ],
   "source": [
    "df_clean.dtypes"
   ]
  },
  {
   "cell_type": "markdown",
   "id": "4c97f2b2",
   "metadata": {},
   "source": [
    "**Exploratory Data Analysis**"
   ]
  },
  {
   "cell_type": "markdown",
   "id": "efc45474",
   "metadata": {},
   "source": [
    "**Histograms**"
   ]
  },
  {
   "cell_type": "code",
   "execution_count": 7,
   "id": "b800880a",
   "metadata": {},
   "outputs": [
    {
     "data": {
      "text/plain": [
       "<Axes: xlabel='int_rate', ylabel='Count'>"
      ]
     },
     "execution_count": 7,
     "metadata": {},
     "output_type": "execute_result"
    },
    {
     "data": {
      "image/png": "[encoded data removed]",
      "text/plain": [
       "<Figure size 640x480 with 1 Axes>"
      ]
     },
     "metadata": {},
     "output_type": "display_data"
    }
   ],
   "source": [
    "sns.histplot(data=df_clean, \n",
    "             x='int_rate',\n",
    "             binwidth=0.015)\n",
    "             "
   ]
  },
  {
   "cell_type": "code",
   "execution_count": 8,
   "id": "630fd038",
   "metadata": {},
   "outputs": [
    {
     "data": {
      "text/plain": [
       "<Axes: xlabel='int_rate', ylabel='Count'>"
      ]
     },
     "execution_count": 8,
     "metadata": {},
     "output_type": "execute_result"
    },
    {
     "data": {
      "image/png": "[encoded data removed]",
      "text/plain": [
       "<Figure size 640x480 with 1 Axes>"
      ]
     },
     "metadata": {},
     "output_type": "display_data"
    }
   ],
   "source": [
    "sns.histplot(data=df_clean, \n",
    "             x='int_rate', \n",
    "             hue='grade',\n",
    "             multiple='layer',\n",
    "             alpha=0.7,\n",
    "             binwidth=0.015)"
   ]
  },
  {
   "cell_type": "markdown",
   "id": "14cf4d68",
   "metadata": {},
   "source": [
    "**Density Plot**"
   ]
  },
  {
   "cell_type": "code",
   "execution_count": 9,
   "id": "008ebb9d",
   "metadata": {},
   "outputs": [
    {
     "data": {
      "text/plain": [
       "<seaborn.axisgrid.FacetGrid at 0x1c643b7c380>"
      ]
     },
     "execution_count": 9,
     "metadata": {},
     "output_type": "execute_result"
    },
    {
     "data": {
      "image/png": "[encoded data removed]",
      "text/plain": [
       "<Figure size 2060.75x1000 with 7 Axes>"
      ]
     },
     "metadata": {},
     "output_type": "display_data"
    }
   ],
   "source": [
    "sns.displot(\n",
    "    data=df_clean,\n",
    "    x=\"int_rate\",\n",
    "    hue=\"grade\",         # give each grade its own color (like fill)\n",
    "    kind=\"kde\",\n",
    "    bw_adjust= 2,\n",
    "    fill=True,\n",
    "    facet_kws={\"sharey\": False},  # so y-axis scales independently per facet\n",
    "    col=\"grade\",         # facet by grade\n",
    "    col_wrap=4          # wrap into rows of 4 plots\n",
    ")"
   ]
  },
  {
   "cell_type": "markdown",
   "id": "55535c73",
   "metadata": {},
   "source": [
    "**Box plots**"
   ]
  },
  {
   "cell_type": "code",
   "execution_count": 10,
   "id": "91f26eb7",
   "metadata": {},
   "outputs": [
    {
     "data": {
      "text/plain": [
       "<Axes: xlabel='int_rate', ylabel='home_ownership'>"
      ]
     },
     "execution_count": 10,
     "metadata": {},
     "output_type": "execute_result"
    },
    {
     "data": {
      "image/png": "[encoded data removed]",
      "text/plain": [
       "<Figure size 640x480 with 1 Axes>"
      ]
     },
     "metadata": {},
     "output_type": "display_data"
    }
   ],
   "source": [
    "sns.boxplot(\n",
    "    data=df_clean,\n",
    "    y=\"home_ownership\",   \n",
    "    x=\"int_rate\",\n",
    "    hue=\"home_ownership\",\n",
    "    dodge=False,\n",
    ")"
   ]
  },
  {
   "cell_type": "markdown",
   "id": "dec984a4",
   "metadata": {},
   "source": [
    "**Scatter plot and regression lines**\n"
   ]
  },
  {
   "cell_type": "code",
   "execution_count": 11,
   "id": "ad9d5575",
   "metadata": {},
   "outputs": [
    {
     "data": {
      "text/plain": [
       "<Axes: xlabel='loan_amnt', ylabel='int_rate'>"
      ]
     },
     "execution_count": 11,
     "metadata": {},
     "output_type": "execute_result"
    },
    {
     "data": {
      "image/png": "[encoded data removed]",
      "text/plain": [
       "<Figure size 640x480 with 1 Axes>"
      ]
     },
     "metadata": {},
     "output_type": "display_data"
    }
   ],
   "source": [
    "df_sample = df_clean.iloc[::10, :] # subsample just for visualisation purposes\n",
    "sns.regplot(\n",
    "    data=df_sample,\n",
    "    x=\"loan_amnt\",\n",
    "    y=\"int_rate\",\n",
    "    scatter_kws={\"s\": 5, \"alpha\": 0.5},  # size ~0.1 in ggplot\n",
    "    line_kws={\"color\": \"red\"},           # regression line\n",
    "    ci=None                              # se=0 (no confidence band)\n",
    ")"
   ]
  },
  {
   "cell_type": "code",
   "execution_count": 12,
   "id": "3177a999",
   "metadata": {},
   "outputs": [
    {
     "data": {
      "text/plain": [
       "<Axes: xlabel='annual_inc', ylabel='int_rate'>"
      ]
     },
     "execution_count": 12,
     "metadata": {},
     "output_type": "execute_result"
    },
    {
     "data": {
      "image/png": "[encoded data removed]",
      "text/plain": [
       "<Figure size 640x480 with 1 Axes>"
      ]
     },
     "metadata": {},
     "output_type": "display_data"
    }
   ],
   "source": [
    "sns.regplot(\n",
    "    data=df_sample,\n",
    "    x=\"annual_inc\",\n",
    "    y=\"int_rate\",\n",
    "    scatter_kws={\"s\": 5, \"alpha\": 0.5},  # size ~0.1 in ggplot\n",
    "    line_kws={\"color\": \"red\"},           # regression line\n",
    "    ci=None                              # se=0 (no confidence band)\n",
    ")"
   ]
  },
  {
   "cell_type": "code",
   "execution_count": 13,
   "id": "68007ee9",
   "metadata": {},
   "outputs": [
    {
     "data": {
      "text/plain": [
       "<matplotlib.legend.Legend at 0x1c6490fffe0>"
      ]
     },
     "execution_count": 13,
     "metadata": {},
     "output_type": "execute_result"
    },
    {
     "data": {
      "image/png": "[encoded data removed]",
      "text/plain": [
       "<Figure size 640x480 with 1 Axes>"
      ]
     },
     "metadata": {},
     "output_type": "display_data"
    }
   ],
   "source": [
    "sns.boxplot(\n",
    "    data=df_clean,\n",
    "    x=\"delinq_2yrs\",\n",
    "    y=\"int_rate\",\n",
    "    hue=\"delinq_2yrs\",     # colour by delinq_2yrs\n",
    "    dodge=False,\n",
    ")\n",
    "plt.legend([], [], frameon=False)"
   ]
  },
  {
   "cell_type": "markdown",
   "id": "9da4b096",
   "metadata": {},
   "source": [
    "**Do delinquencies in the last two years impact interest rates?**"
   ]
  },
  {
   "cell_type": "code",
   "execution_count": 14,
   "id": "4ecfec58",
   "metadata": {},
   "outputs": [
    {
     "data": {
      "text/plain": [
       "<matplotlib.legend.Legend at 0x1c64d867da0>"
      ]
     },
     "execution_count": 14,
     "metadata": {},
     "output_type": "execute_result"
    },
    {
     "data": {
      "image/png": "[encoded data removed]",
      "text/plain": [
       "<Figure size 640x480 with 1 Axes>"
      ]
     },
     "metadata": {},
     "output_type": "display_data"
    }
   ],
   "source": [
    "sns.boxplot(\n",
    "    data=df_clean,\n",
    "    x=\"delinq_2yrs\",\n",
    "    y=\"int_rate\",\n",
    "    hue=\"delinq_2yrs\"    # colour by delinq_2yrs\n",
    ")\n",
    "plt.legend([], [], frameon=False)"
   ]
  },
  {
   "cell_type": "markdown",
   "id": "517b7937",
   "metadata": {},
   "source": [
    "**Correlation Table**"
   ]
  },
  {
   "cell_type": "code",
   "execution_count": 15,
   "id": "bb2a0140",
   "metadata": {},
   "outputs": [
    {
     "data": {
      "image/png": "[encoded data removed]",
      "text/plain": [
       "<Figure size 680x680 with 21 Axes>"
      ]
     },
     "metadata": {},
     "output_type": "display_data"
    }
   ],
   "source": [
    "import seaborn as sns, matplotlib.pyplot as plt, numpy as np\n",
    "from matplotlib.colors import Normalize\n",
    "\n",
    "vars_order = ['loan_amnt','dti','annual_inc','int_rate']\n",
    "df_plot = df_clean.iloc[::10, :].copy()\n",
    "\n",
    "# bubble plot for correlations\n",
    "def corr_dot(x, y, **kws):\n",
    "    ax = plt.gca()\n",
    "    x, y = np.asarray(x, float), np.asarray(y, float)\n",
    "    m = np.isfinite(x) & np.isfinite(y)\n",
    "    r = 0.0 if m.sum() < 2 else np.corrcoef(x[m], y[m])[0, 1]\n",
    "    # scatter bubble in middle of cell\n",
    "    ax.scatter(0.5, 0.5, s=2000*abs(r), c=[[r]],\n",
    "               cmap=kws[\"cmap\"], norm=kws[\"norm\"],\n",
    "               transform=ax.transAxes)\n",
    "    # clean ticks & spines but KEEP axis for labels\n",
    "    ax.set_xticks([]); ax.set_yticks([])\n",
    "    for spine in ax.spines.values(): spine.set_visible(False)\n",
    "\n",
    "# hide upper triangle completely\n",
    "def hide_axis(*args, **kwargs):\n",
    "    plt.gca().set_visible(False)\n",
    "\n",
    "g = sns.PairGrid(df_plot, vars=vars_order, diag_sharey=False, height=1.7)\n",
    "# diagonal: filled KDE\n",
    "g.map_diag(\n",
    "    sns.kdeplot,\n",
    "    fill=True, alpha=0.5\n",
    ")\n",
    "norm = Normalize(-0.5, 0.5)\n",
    "g.map_lower(corr_dot, norm=norm, cmap=\"RdBu_r\")\n",
    "g.map_upper(hide_axis)\n",
    "\n",
    "# labels for lower axes\n",
    "for ax, lab in zip(g.axes[-1, :], vars_order): ax.set_xlabel(lab)\n",
    "for ax, lab in zip(g.axes[:, 0], vars_order):  ax.set_ylabel(lab)\n",
    "\n",
    "# colorbar\n",
    "sm = plt.cm.ScalarMappable(norm=norm, cmap=\"RdBu_r\"); sm.set_array([])\n",
    "g.fig.colorbar(sm, ax=g.axes, fraction=0.046, pad=0.04, label=\"Pearson r\")\n",
    "\n",
    "plt.show()\n"
   ]
  },
  {
   "cell_type": "markdown",
   "id": "028ebc0d",
   "metadata": {},
   "source": [
    "**Linear Regression**"
   ]
  },
  {
   "cell_type": "markdown",
   "id": "10f3232d",
   "metadata": {},
   "source": [
    "The simplest linear regression: fitting the mean to the data"
   ]
  },
  {
   "cell_type": "code",
   "execution_count": 16,
   "id": "117700d5",
   "metadata": {},
   "outputs": [
    {
     "name": "stdout",
     "output_type": "stream",
     "text": [
      "                            OLS Regression Results                            \n",
      "==============================================================================\n",
      "Dep. Variable:               int_rate   R-squared:                       0.000\n",
      "Model:                            OLS   Adj. R-squared:                  0.000\n",
      "Method:                 Least Squares   F-statistic:                       nan\n",
      "Date:                Thu, 18 Sep 2025   Prob (F-statistic):                nan\n",
      "Time:                        10:41:46   Log-Likelihood:                 70845.\n",
      "No. Observations:               37869   AIC:                        -1.417e+05\n",
      "Df Residuals:                   37868   BIC:                        -1.417e+05\n",
      "Df Model:                           0                                         \n",
      "Covariance Type:            nonrobust                                         \n",
      "==============================================================================\n",
      "                 coef    std err          t      P>|t|      [0.025      0.975]\n",
      "------------------------------------------------------------------------------\n",
      "Intercept      0.1203      0.000    628.034      0.000       0.120       0.121\n",
      "==============================================================================\n",
      "Omnibus:                      972.461   Durbin-Watson:                   0.000\n",
      "Prob(Omnibus):                  0.000   Jarque-Bera (JB):              816.859\n",
      "Skew:                           0.292   Prob(JB):                    4.18e-178\n",
      "Kurtosis:                       2.580   Cond. No.                         1.00\n",
      "==============================================================================\n",
      "\n",
      "Notes:\n",
      "[1] Standard Errors assume that the covariance matrix of the errors is correctly specified.\n"
     ]
    }
   ],
   "source": [
    "model0 = smf.ols('int_rate ~ 1', data=df_clean).fit() \n",
    "print(model0.summary())"
   ]
  },
  {
   "cell_type": "markdown",
   "id": "55e6ec38",
   "metadata": {},
   "source": [
    "**Univariate linear regression: using loan_amnt as a predictor**"
   ]
  },
  {
   "cell_type": "code",
   "execution_count": 17,
   "id": "d776fe12",
   "metadata": {},
   "outputs": [
    {
     "name": "stdout",
     "output_type": "stream",
     "text": [
      "                            OLS Regression Results                            \n",
      "==============================================================================\n",
      "Dep. Variable:               int_rate   R-squared:                       0.097\n",
      "Model:                            OLS   Adj. R-squared:                  0.097\n",
      "Method:                 Least Squares   F-statistic:                     4067.\n",
      "Date:                Thu, 18 Sep 2025   Prob (F-statistic):               0.00\n",
      "Time:                        10:41:46   Log-Likelihood:                 72776.\n",
      "No. Observations:               37869   AIC:                        -1.455e+05\n",
      "Df Residuals:                   37867   BIC:                        -1.455e+05\n",
      "Df Model:                           1                                         \n",
      "Covariance Type:            nonrobust                                         \n",
      "==============================================================================\n",
      "                 coef    std err          t      P>|t|      [0.025      0.975]\n",
      "------------------------------------------------------------------------------\n",
      "Intercept      0.1028      0.000    312.155      0.000       0.102       0.103\n",
      "loan_amnt   1.555e-06   2.44e-08     63.770      0.000    1.51e-06     1.6e-06\n",
      "==============================================================================\n",
      "Omnibus:                     1206.933   Durbin-Watson:                   0.180\n",
      "Prob(Omnibus):                  0.000   Jarque-Bera (JB):              751.554\n",
      "Skew:                           0.211   Prob(JB):                    6.34e-164\n",
      "Kurtosis:                       2.453   Cond. No.                     2.44e+04\n",
      "==============================================================================\n",
      "\n",
      "Notes:\n",
      "[1] Standard Errors assume that the covariance matrix of the errors is correctly specified.\n",
      "[2] The condition number is large, 2.44e+04. This might indicate that there are\n",
      "strong multicollinearity or other numerical problems.\n"
     ]
    }
   ],
   "source": [
    "model1 = smf.ols('int_rate ~ loan_amnt', data=df_clean).fit()\n",
    "print(model1.summary())"
   ]
  },
  {
   "cell_type": "markdown",
   "id": "a31a5076",
   "metadata": {},
   "source": [
    "**Multiple linear regression: using multiple predictors**"
   ]
  },
  {
   "cell_type": "code",
   "execution_count": 18,
   "id": "5fd6f5df",
   "metadata": {},
   "outputs": [
    {
     "name": "stdout",
     "output_type": "stream",
     "text": [
      "                            OLS Regression Results                            \n",
      "==============================================================================\n",
      "Dep. Variable:               int_rate   R-squared:                       0.919\n",
      "Model:                            OLS   Adj. R-squared:                  0.919\n",
      "Method:                 Least Squares   F-statistic:                 4.779e+04\n",
      "Date:                Thu, 18 Sep 2025   Prob (F-statistic):               0.00\n",
      "Time:                        10:41:46   Log-Likelihood:             1.1845e+05\n",
      "No. Observations:               37869   AIC:                        -2.369e+05\n",
      "Df Residuals:                   37859   BIC:                        -2.368e+05\n",
      "Df Model:                           9                                         \n",
      "Covariance Type:            nonrobust                                         \n",
      "================================================================================\n",
      "                   coef    std err          t      P>|t|      [0.025      0.975]\n",
      "--------------------------------------------------------------------------------\n",
      "Intercept        0.0725      0.000    443.620      0.000       0.072       0.073\n",
      "term[T.60.0]     0.0043      0.000     31.183      0.000       0.004       0.005\n",
      "grade[T.B]       0.0358      0.000    239.647      0.000       0.035       0.036\n",
      "grade[T.C]       0.0603      0.000    362.747      0.000       0.060       0.061\n",
      "grade[T.D]       0.0820      0.000    429.908      0.000       0.082       0.082\n",
      "grade[T.E]       0.1005      0.000    406.440      0.000       0.100       0.101\n",
      "grade[T.F]       0.1204      0.000    328.893      0.000       0.120       0.121\n",
      "grade[T.G]       0.1365      0.001    219.993      0.000       0.135       0.138\n",
      "annual_inc    3.733e-09   8.94e-10      4.178      0.000    1.98e-09    5.48e-09\n",
      "dti           5.363e-05   8.28e-06      6.474      0.000    3.74e-05    6.99e-05\n",
      "==============================================================================\n",
      "Omnibus:                     2529.945   Durbin-Watson:                   0.089\n",
      "Prob(Omnibus):                  0.000   Jarque-Bera (JB):             9813.456\n",
      "Skew:                          -0.239   Prob(JB):                         0.00\n",
      "Kurtosis:                       5.448   Cond. No.                     1.07e+06\n",
      "==============================================================================\n",
      "\n",
      "Notes:\n",
      "[1] Standard Errors assume that the covariance matrix of the errors is correctly specified.\n",
      "[2] The condition number is large, 1.07e+06. This might indicate that there are\n",
      "strong multicollinearity or other numerical problems.\n"
     ]
    }
   ],
   "source": [
    "# Multiple linear regression model with several predictors\n",
    "\n",
    "model0_multiple = smf.ols('int_rate ~ term + annual_inc + dti + grade', data=df_clean).fit()\n",
    "print(model0_multiple.summary())"
   ]
  },
  {
   "cell_type": "markdown",
   "id": "3899dbcd",
   "metadata": {},
   "source": [
    "**Understanding the Model Output Notes**\n",
    "\n",
    "The notes at the bottom of the regression summary provide important warnings about potential issues:\n",
    "\n",
    "**Note [1]: Standard Errors Assumption**\n",
    "- This note appears on virtually all regression outputs\n",
    "- It reminds us that the standard errors (and therefore p-values and confidence intervals) are only valid if the model assumptions are met\n",
    "- Key assumptions include:\n",
    "  - **Homoscedasticity**: Constant variance of errors\n",
    "  - **Independence**: Errors are not correlated with each other\n",
    "  - **Correct specification**: We haven't omitted important variables or included incorrect functional forms\n",
    "- If these assumptions are violated, our p-values and confidence intervals may be misleading\n",
    "\n",
    "**Note [2]: High Condition Number (Multicollinearity Warning)**\n",
    "- Condition number = 2.44e+04 = 24,400 (very large!)\n",
    "- **What it means**: There's strong multicollinearity among our predictors\n",
    "- **Multicollinearity** occurs when predictor variables are highly correlated with each other\n",
    "- **Problems this causes**:\n",
    "  - Coefficient estimates become unstable (small data changes → big coefficient changes)\n",
    "  - Standard errors inflate (making tests less powerful)\n",
    "  - Difficult to interpret individual coefficient effects\n",
    "  - Model predictions can still be accurate, but individual coefficients are unreliable\n",
    "\n",
    "**Potential Solutions**:\n",
    "1. **Remove highly correlated variables** (check correlation matrix)\n",
    "2. **Center/standardize variables** (especially helpful for categorical variables)\n",
    "3. **Use regularization methods** (Ridge, Lasso regression)\n",
    "4. **Collect more data** (sometimes helps reduce multicollinearity effects)\n",
    "5. **Principal Component Analysis** (combine correlated variables)\n",
    "\n",
    "In our case, variables like `annual_inc`, `dti`, and `grade` are likely highly correlated since they all relate to borrower creditworthiness."
   ]
  }
 ],
 "metadata": {
  "kernelspec": {
   "display_name": "Python 3",
   "language": "python",
   "name": "python3"
  },
  "language_info": {
   "codemirror_mode": {
    "name": "ipython",
    "version": 3
   },
   "file_extension": ".py",
   "mimetype": "text/x-python",
   "name": "python",
   "nbconvert_exporter": "python",
   "pygments_lexer": "ipython3",
   "version": "3.12.8"
  }
 },
 "nbformat": 4,
 "nbformat_minor": 5
}
